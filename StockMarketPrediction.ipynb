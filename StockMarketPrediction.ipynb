{
 "cells": [
  {
   "cell_type": "markdown",
   "metadata": {
    "colab_type": "text",
    "id": "view-in-github"
   },
   "source": [
    "# Stock Market Prediction using Numerical and Textual Analysis"
   ]
  },
  {
   "cell_type": "markdown",
   "metadata": {},
   "source": [
    "# Aman Gupta"
   ]
  },
  {
   "cell_type": "code",
   "execution_count": 1,
   "metadata": {
    "colab": {
     "base_uri": "https://localhost:8080/"
    },
    "id": "beSkU3D3j-dC",
    "outputId": "03105697-feb1-401d-cbf5-08d627b39817"
   },
   "outputs": [
    {
     "name": "stdout",
     "output_type": "stream",
     "text": [
      "Requirement already satisfied: nltk in c:\\users\\amang\\anaconda3\\lib\\site-packages (3.6.1)\n",
      "Requirement already satisfied: click in c:\\users\\amang\\anaconda3\\lib\\site-packages (from nltk) (7.1.2)\n",
      "Requirement already satisfied: tqdm in c:\\users\\amang\\anaconda3\\lib\\site-packages (from nltk) (4.59.0)\n",
      "Requirement already satisfied: regex in c:\\users\\amang\\anaconda3\\lib\\site-packages (from nltk) (2021.4.4)\n",
      "Requirement already satisfied: joblib in c:\\users\\amang\\anaconda3\\lib\\site-packages (from nltk) (1.0.1)\n"
     ]
    },
    {
     "name": "stderr",
     "output_type": "stream",
     "text": [
      "[nltk_data] Downloading package vader_lexicon to\n",
      "[nltk_data]     C:\\Users\\amang\\AppData\\Roaming\\nltk_data...\n"
     ]
    },
    {
     "data": {
      "text/plain": [
       "True"
      ]
     },
     "execution_count": 1,
     "metadata": {},
     "output_type": "execute_result"
    }
   ],
   "source": [
    "!pip install nltk\n",
    "import pandas as pd\n",
    "import numpy as np\n",
    "import matplotlib.pyplot as plt\n",
    "import math\n",
    "\n",
    "import seaborn as sns\n",
    "\n",
    "import nltk\n",
    "#VADER ( Valence Aware Dictionary for Sentiment Reasoning) is a model used for\n",
    "# text sentiment analysis that is sensitive to both polarity (positive/negative) and intensity (strength) of emotion.\n",
    "nltk.download('vader_lexicon')"
   ]
  },
  {
   "cell_type": "code",
   "execution_count": 10,
   "metadata": {
    "id": "75Dmc9prDOBv"
   },
   "outputs": [],
   "source": [
    "stock_prices=pd.read_csv('historical_data.csv')"
   ]
  },
  {
   "cell_type": "code",
   "execution_count": 11,
   "metadata": {
    "colab": {
     "base_uri": "https://localhost:8080/"
    },
    "id": "n1G75C06DlNV",
    "outputId": "eeb48294-ade8-410d-bd0d-e2c5510d3fb9"
   },
   "outputs": [
    {
     "name": "stdout",
     "output_type": "stream",
     "text": [
      "         Date          Open          High           Low         Close  \\\n",
      "0  2019-12-17  41052.359375  41401.648438  41005.179688  41352.171875   \n",
      "1  2019-12-18  41442.750000  41614.769531  41358.468750  41558.570313   \n",
      "2  2019-12-19  41571.820313  41719.289063  41456.398438  41673.921875   \n",
      "3  2019-12-20  41746.199219  41809.960938  41636.109375  41681.539063   \n",
      "4  2019-12-23  41548.261719  41701.621094  41474.609375  41642.660156   \n",
      "\n",
      "      Adj Close   Volume  \n",
      "0  41352.171875  19000.0  \n",
      "1  41558.570313  24300.0  \n",
      "2  41673.921875  33300.0  \n",
      "3  41681.539063  33600.0  \n",
      "4  41642.660156   6200.0  \n",
      "1764\n"
     ]
    }
   ],
   "source": [
    "print(stock_prices.head())\n",
    "print(stock_prices.size)"
   ]
  },
  {
   "cell_type": "code",
   "execution_count": 12,
   "metadata": {
    "colab": {
     "base_uri": "https://localhost:8080/"
    },
    "id": "4Lb1N-7OEJmy",
    "outputId": "e2cefb9f-9412-44d3-c6a7-dc92ed9c1bd8"
   },
   "outputs": [
    {
     "name": "stdout",
     "output_type": "stream",
     "text": [
      "<class 'pandas.core.frame.DataFrame'>\n",
      "RangeIndex: 252 entries, 0 to 251\n",
      "Data columns (total 7 columns):\n",
      " #   Column     Non-Null Count  Dtype  \n",
      "---  ------     --------------  -----  \n",
      " 0   Date       252 non-null    object \n",
      " 1   Open       250 non-null    float64\n",
      " 2   High       250 non-null    float64\n",
      " 3   Low        250 non-null    float64\n",
      " 4   Close      250 non-null    float64\n",
      " 5   Adj Close  250 non-null    float64\n",
      " 6   Volume     250 non-null    float64\n",
      "dtypes: float64(6), object(1)\n",
      "memory usage: 13.9+ KB\n"
     ]
    }
   ],
   "source": [
    "stock_prices.info()"
   ]
  },
  {
   "cell_type": "code",
   "execution_count": 13,
   "metadata": {
    "id": "k5ssfT-opLMx"
   },
   "outputs": [],
   "source": [
    "stock_headlines=pd.read_csv('india-news-headlines.csv')"
   ]
  },
  {
   "cell_type": "code",
   "execution_count": 14,
   "metadata": {
    "colab": {
     "base_uri": "https://localhost:8080/"
    },
    "id": "LvM6N1g8ApxW",
    "outputId": "548e05a2-ac6d-4a1b-8d38-f5a67300c425"
   },
   "outputs": [
    {
     "name": "stdout",
     "output_type": "stream",
     "text": [
      "   publish_date headline_category  \\\n",
      "0      20010102           unknown   \n",
      "1      20010102           unknown   \n",
      "2      20010102           unknown   \n",
      "3      20010102           unknown   \n",
      "4      20010102           unknown   \n",
      "\n",
      "                                       headline_text  \n",
      "0  Status quo will not be disturbed at Ayodhya; s...  \n",
      "1                Fissures in Hurriyat over Pak visit  \n",
      "2              America's unwanted heading for India?  \n",
      "3                 For bigwigs; it is destination Goa  \n",
      "4               Extra buses to clear tourist traffic  \n",
      "10272201\n"
     ]
    }
   ],
   "source": [
    "print(stock_headlines.head())\n",
    "print(stock_headlines.size)"
   ]
  },
  {
   "cell_type": "code",
   "execution_count": 15,
   "metadata": {
    "colab": {
     "base_uri": "https://localhost:8080/",
     "height": 419
    },
    "id": "zzUU12u_D_0H",
    "outputId": "175ea50e-f79d-4540-d6cf-9f6cf7c5faa2"
   },
   "outputs": [
    {
     "data": {
      "text/html": [
       "<div>\n",
       "<style scoped>\n",
       "    .dataframe tbody tr th:only-of-type {\n",
       "        vertical-align: middle;\n",
       "    }\n",
       "\n",
       "    .dataframe tbody tr th {\n",
       "        vertical-align: top;\n",
       "    }\n",
       "\n",
       "    .dataframe thead th {\n",
       "        text-align: right;\n",
       "    }\n",
       "</style>\n",
       "<table border=\"1\" class=\"dataframe\">\n",
       "  <thead>\n",
       "    <tr style=\"text-align: right;\">\n",
       "      <th></th>\n",
       "      <th>Date</th>\n",
       "      <th>Open</th>\n",
       "      <th>High</th>\n",
       "      <th>Low</th>\n",
       "      <th>Close</th>\n",
       "      <th>Adj Close</th>\n",
       "      <th>Volume</th>\n",
       "    </tr>\n",
       "  </thead>\n",
       "  <tbody>\n",
       "    <tr>\n",
       "      <th>0</th>\n",
       "      <td>2019-12-17</td>\n",
       "      <td>41052.359375</td>\n",
       "      <td>41401.648438</td>\n",
       "      <td>41005.179688</td>\n",
       "      <td>41352.171875</td>\n",
       "      <td>41352.171875</td>\n",
       "      <td>19000.0</td>\n",
       "    </tr>\n",
       "    <tr>\n",
       "      <th>1</th>\n",
       "      <td>2019-12-18</td>\n",
       "      <td>41442.750000</td>\n",
       "      <td>41614.769531</td>\n",
       "      <td>41358.468750</td>\n",
       "      <td>41558.570313</td>\n",
       "      <td>41558.570313</td>\n",
       "      <td>24300.0</td>\n",
       "    </tr>\n",
       "    <tr>\n",
       "      <th>2</th>\n",
       "      <td>2019-12-19</td>\n",
       "      <td>41571.820313</td>\n",
       "      <td>41719.289063</td>\n",
       "      <td>41456.398438</td>\n",
       "      <td>41673.921875</td>\n",
       "      <td>41673.921875</td>\n",
       "      <td>33300.0</td>\n",
       "    </tr>\n",
       "    <tr>\n",
       "      <th>3</th>\n",
       "      <td>2019-12-20</td>\n",
       "      <td>41746.199219</td>\n",
       "      <td>41809.960938</td>\n",
       "      <td>41636.109375</td>\n",
       "      <td>41681.539063</td>\n",
       "      <td>41681.539063</td>\n",
       "      <td>33600.0</td>\n",
       "    </tr>\n",
       "    <tr>\n",
       "      <th>4</th>\n",
       "      <td>2019-12-23</td>\n",
       "      <td>41548.261719</td>\n",
       "      <td>41701.621094</td>\n",
       "      <td>41474.609375</td>\n",
       "      <td>41642.660156</td>\n",
       "      <td>41642.660156</td>\n",
       "      <td>6200.0</td>\n",
       "    </tr>\n",
       "    <tr>\n",
       "      <th>...</th>\n",
       "      <td>...</td>\n",
       "      <td>...</td>\n",
       "      <td>...</td>\n",
       "      <td>...</td>\n",
       "      <td>...</td>\n",
       "      <td>...</td>\n",
       "      <td>...</td>\n",
       "    </tr>\n",
       "    <tr>\n",
       "      <th>247</th>\n",
       "      <td>2020-12-11</td>\n",
       "      <td>46060.320313</td>\n",
       "      <td>46309.628906</td>\n",
       "      <td>45706.218750</td>\n",
       "      <td>46099.011719</td>\n",
       "      <td>46099.011719</td>\n",
       "      <td>26300.0</td>\n",
       "    </tr>\n",
       "    <tr>\n",
       "      <th>248</th>\n",
       "      <td>2020-12-14</td>\n",
       "      <td>46284.699219</td>\n",
       "      <td>46373.339844</td>\n",
       "      <td>45951.531250</td>\n",
       "      <td>46253.460938</td>\n",
       "      <td>46253.460938</td>\n",
       "      <td>18400.0</td>\n",
       "    </tr>\n",
       "    <tr>\n",
       "      <th>249</th>\n",
       "      <td>2020-12-15</td>\n",
       "      <td>46287.390625</td>\n",
       "      <td>46350.300781</td>\n",
       "      <td>45841.671875</td>\n",
       "      <td>46263.171875</td>\n",
       "      <td>46263.171875</td>\n",
       "      <td>16400.0</td>\n",
       "    </tr>\n",
       "    <tr>\n",
       "      <th>250</th>\n",
       "      <td>2020-12-16</td>\n",
       "      <td>46573.308594</td>\n",
       "      <td>46704.968750</td>\n",
       "      <td>46402.199219</td>\n",
       "      <td>46666.460938</td>\n",
       "      <td>46666.460938</td>\n",
       "      <td>13100.0</td>\n",
       "    </tr>\n",
       "    <tr>\n",
       "      <th>251</th>\n",
       "      <td>2020-12-17</td>\n",
       "      <td>46774.320313</td>\n",
       "      <td>46992.570313</td>\n",
       "      <td>46627.601563</td>\n",
       "      <td>46890.339844</td>\n",
       "      <td>46890.339844</td>\n",
       "      <td>0.0</td>\n",
       "    </tr>\n",
       "  </tbody>\n",
       "</table>\n",
       "<p>252 rows × 7 columns</p>\n",
       "</div>"
      ],
      "text/plain": [
       "          Date          Open          High           Low         Close  \\\n",
       "0   2019-12-17  41052.359375  41401.648438  41005.179688  41352.171875   \n",
       "1   2019-12-18  41442.750000  41614.769531  41358.468750  41558.570313   \n",
       "2   2019-12-19  41571.820313  41719.289063  41456.398438  41673.921875   \n",
       "3   2019-12-20  41746.199219  41809.960938  41636.109375  41681.539063   \n",
       "4   2019-12-23  41548.261719  41701.621094  41474.609375  41642.660156   \n",
       "..         ...           ...           ...           ...           ...   \n",
       "247 2020-12-11  46060.320313  46309.628906  45706.218750  46099.011719   \n",
       "248 2020-12-14  46284.699219  46373.339844  45951.531250  46253.460938   \n",
       "249 2020-12-15  46287.390625  46350.300781  45841.671875  46263.171875   \n",
       "250 2020-12-16  46573.308594  46704.968750  46402.199219  46666.460938   \n",
       "251 2020-12-17  46774.320313  46992.570313  46627.601563  46890.339844   \n",
       "\n",
       "        Adj Close   Volume  \n",
       "0    41352.171875  19000.0  \n",
       "1    41558.570313  24300.0  \n",
       "2    41673.921875  33300.0  \n",
       "3    41681.539063  33600.0  \n",
       "4    41642.660156   6200.0  \n",
       "..            ...      ...  \n",
       "247  46099.011719  26300.0  \n",
       "248  46253.460938  18400.0  \n",
       "249  46263.171875  16400.0  \n",
       "250  46666.460938  13100.0  \n",
       "251  46890.339844      0.0  \n",
       "\n",
       "[252 rows x 7 columns]"
      ]
     },
     "execution_count": 15,
     "metadata": {},
     "output_type": "execute_result"
    }
   ],
   "source": [
    "#converting stock_prices['Date'] object to datetime datatype\n",
    "stock_prices['Date']=pd.to_datetime(stock_prices['Date'])\n",
    "stock_prices"
   ]
  },
  {
   "cell_type": "code",
   "execution_count": 16,
   "metadata": {
    "colab": {
     "base_uri": "https://localhost:8080/"
    },
    "id": "_ZOmfgJ7Ezvs",
    "outputId": "d9eb8ef0-6324-4d98-b054-cd5dfb8b7def"
   },
   "outputs": [
    {
     "data": {
      "text/plain": [
       "True"
      ]
     },
     "execution_count": 16,
     "metadata": {},
     "output_type": "execute_result"
    }
   ],
   "source": [
    "#detecting any null value\n",
    "stock_prices.isnull().values.any()"
   ]
  },
  {
   "cell_type": "code",
   "execution_count": 17,
   "metadata": {
    "id": "cF4dNO-9FVcA"
   },
   "outputs": [],
   "source": [
    "#dropping any null value if any\n",
    "stock_prices.dropna(inplace=True)"
   ]
  },
  {
   "cell_type": "code",
   "execution_count": 18,
   "metadata": {
    "colab": {
     "base_uri": "https://localhost:8080/"
    },
    "id": "3SY939YpFc0Y",
    "outputId": "481a0fb0-428e-4936-80dd-cb9f56e6237a"
   },
   "outputs": [
    {
     "name": "stdout",
     "output_type": "stream",
     "text": [
      "        Date          Open          High           Low         Close  \\\n",
      "0 2019-12-17  41052.359375  41401.648438  41005.179688  41352.171875   \n",
      "1 2019-12-18  41442.750000  41614.769531  41358.468750  41558.570313   \n",
      "2 2019-12-19  41571.820313  41719.289063  41456.398438  41673.921875   \n",
      "3 2019-12-20  41746.199219  41809.960938  41636.109375  41681.539063   \n",
      "4 2019-12-23  41548.261719  41701.621094  41474.609375  41642.660156   \n",
      "\n",
      "      Adj Close   Volume  \n",
      "0  41352.171875  19000.0  \n",
      "1  41558.570313  24300.0  \n",
      "2  41673.921875  33300.0  \n",
      "3  41681.539063  33600.0  \n",
      "4  41642.660156   6200.0  \n"
     ]
    }
   ],
   "source": [
    "print(stock_prices.head())"
   ]
  },
  {
   "cell_type": "markdown",
   "metadata": {
    "id": "qKGE31s2Qcd6"
   },
   "source": [
    "#combine the polarity of news to data and then predict the close price\n",
    "#i.e. close price is to be determined"
   ]
  },
  {
   "cell_type": "code",
   "execution_count": 19,
   "metadata": {
    "colab": {
     "base_uri": "https://localhost:8080/",
     "height": 419
    },
    "id": "qy82zqe-ITin",
    "outputId": "05c9e98c-541a-48e1-92eb-3a8bab3bc183"
   },
   "outputs": [
    {
     "data": {
      "text/html": [
       "<div>\n",
       "<style scoped>\n",
       "    .dataframe tbody tr th:only-of-type {\n",
       "        vertical-align: middle;\n",
       "    }\n",
       "\n",
       "    .dataframe tbody tr th {\n",
       "        vertical-align: top;\n",
       "    }\n",
       "\n",
       "    .dataframe thead th {\n",
       "        text-align: right;\n",
       "    }\n",
       "</style>\n",
       "<table border=\"1\" class=\"dataframe\">\n",
       "  <thead>\n",
       "    <tr style=\"text-align: right;\">\n",
       "      <th></th>\n",
       "      <th>publish_date</th>\n",
       "      <th>headline_category</th>\n",
       "      <th>headline_text</th>\n",
       "    </tr>\n",
       "  </thead>\n",
       "  <tbody>\n",
       "    <tr>\n",
       "      <th>0</th>\n",
       "      <td>20010102</td>\n",
       "      <td>unknown</td>\n",
       "      <td>Status quo will not be disturbed at Ayodhya; s...</td>\n",
       "    </tr>\n",
       "    <tr>\n",
       "      <th>1</th>\n",
       "      <td>20010102</td>\n",
       "      <td>unknown</td>\n",
       "      <td>Fissures in Hurriyat over Pak visit</td>\n",
       "    </tr>\n",
       "    <tr>\n",
       "      <th>2</th>\n",
       "      <td>20010102</td>\n",
       "      <td>unknown</td>\n",
       "      <td>America's unwanted heading for India?</td>\n",
       "    </tr>\n",
       "    <tr>\n",
       "      <th>3</th>\n",
       "      <td>20010102</td>\n",
       "      <td>unknown</td>\n",
       "      <td>For bigwigs; it is destination Goa</td>\n",
       "    </tr>\n",
       "    <tr>\n",
       "      <th>4</th>\n",
       "      <td>20010102</td>\n",
       "      <td>unknown</td>\n",
       "      <td>Extra buses to clear tourist traffic</td>\n",
       "    </tr>\n",
       "    <tr>\n",
       "      <th>...</th>\n",
       "      <td>...</td>\n",
       "      <td>...</td>\n",
       "      <td>...</td>\n",
       "    </tr>\n",
       "    <tr>\n",
       "      <th>3424062</th>\n",
       "      <td>20201231</td>\n",
       "      <td>city.jodhpur</td>\n",
       "      <td>Covid-19: Despite dip in cases; Rajasthan amon...</td>\n",
       "    </tr>\n",
       "    <tr>\n",
       "      <th>3424063</th>\n",
       "      <td>20201231</td>\n",
       "      <td>city.udaipur</td>\n",
       "      <td>Covid-19: Despite dip in cases; Rajasthan amon...</td>\n",
       "    </tr>\n",
       "    <tr>\n",
       "      <th>3424064</th>\n",
       "      <td>20201231</td>\n",
       "      <td>city.ajmer</td>\n",
       "      <td>Covid-19: Despite dip in cases; Rajasthan amon...</td>\n",
       "    </tr>\n",
       "    <tr>\n",
       "      <th>3424065</th>\n",
       "      <td>20201231</td>\n",
       "      <td>removed</td>\n",
       "      <td>Govt extends deadline for use of FASTag till F...</td>\n",
       "    </tr>\n",
       "    <tr>\n",
       "      <th>3424066</th>\n",
       "      <td>20201231</td>\n",
       "      <td>entertainment.bengali.movies.news</td>\n",
       "      <td>Celebs plan to party safely and responsibly on...</td>\n",
       "    </tr>\n",
       "  </tbody>\n",
       "</table>\n",
       "<p>3424067 rows × 3 columns</p>\n",
       "</div>"
      ],
      "text/plain": [
       "         publish_date                  headline_category  \\\n",
       "0            20010102                            unknown   \n",
       "1            20010102                            unknown   \n",
       "2            20010102                            unknown   \n",
       "3            20010102                            unknown   \n",
       "4            20010102                            unknown   \n",
       "...               ...                                ...   \n",
       "3424062      20201231                       city.jodhpur   \n",
       "3424063      20201231                       city.udaipur   \n",
       "3424064      20201231                         city.ajmer   \n",
       "3424065      20201231                            removed   \n",
       "3424066      20201231  entertainment.bengali.movies.news   \n",
       "\n",
       "                                             headline_text  \n",
       "0        Status quo will not be disturbed at Ayodhya; s...  \n",
       "1                      Fissures in Hurriyat over Pak visit  \n",
       "2                    America's unwanted heading for India?  \n",
       "3                       For bigwigs; it is destination Goa  \n",
       "4                     Extra buses to clear tourist traffic  \n",
       "...                                                    ...  \n",
       "3424062  Covid-19: Despite dip in cases; Rajasthan amon...  \n",
       "3424063  Covid-19: Despite dip in cases; Rajasthan amon...  \n",
       "3424064  Covid-19: Despite dip in cases; Rajasthan amon...  \n",
       "3424065  Govt extends deadline for use of FASTag till F...  \n",
       "3424066  Celebs plan to party safely and responsibly on...  \n",
       "\n",
       "[3424067 rows x 3 columns]"
      ]
     },
     "execution_count": 19,
     "metadata": {},
     "output_type": "execute_result"
    }
   ],
   "source": [
    "stock_headlines"
   ]
  },
  {
   "cell_type": "code",
   "execution_count": 20,
   "metadata": {
    "colab": {
     "base_uri": "https://localhost:8080/",
     "height": 419
    },
    "id": "uvYUakxO_dCx",
    "outputId": "66d084cb-a4b2-4621-9460-1a41bc351e23"
   },
   "outputs": [
    {
     "data": {
      "text/html": [
       "<div>\n",
       "<style scoped>\n",
       "    .dataframe tbody tr th:only-of-type {\n",
       "        vertical-align: middle;\n",
       "    }\n",
       "\n",
       "    .dataframe tbody tr th {\n",
       "        vertical-align: top;\n",
       "    }\n",
       "\n",
       "    .dataframe thead th {\n",
       "        text-align: right;\n",
       "    }\n",
       "</style>\n",
       "<table border=\"1\" class=\"dataframe\">\n",
       "  <thead>\n",
       "    <tr style=\"text-align: right;\">\n",
       "      <th></th>\n",
       "      <th>publish_date</th>\n",
       "      <th>headline_category</th>\n",
       "      <th>headline_text</th>\n",
       "    </tr>\n",
       "  </thead>\n",
       "  <tbody>\n",
       "    <tr>\n",
       "      <th>0</th>\n",
       "      <td>2001-01-02</td>\n",
       "      <td>unknown</td>\n",
       "      <td>Status quo will not be disturbed at Ayodhya; s...</td>\n",
       "    </tr>\n",
       "    <tr>\n",
       "      <th>1</th>\n",
       "      <td>2001-01-02</td>\n",
       "      <td>unknown</td>\n",
       "      <td>Fissures in Hurriyat over Pak visit</td>\n",
       "    </tr>\n",
       "    <tr>\n",
       "      <th>2</th>\n",
       "      <td>2001-01-02</td>\n",
       "      <td>unknown</td>\n",
       "      <td>America's unwanted heading for India?</td>\n",
       "    </tr>\n",
       "    <tr>\n",
       "      <th>3</th>\n",
       "      <td>2001-01-02</td>\n",
       "      <td>unknown</td>\n",
       "      <td>For bigwigs; it is destination Goa</td>\n",
       "    </tr>\n",
       "    <tr>\n",
       "      <th>4</th>\n",
       "      <td>2001-01-02</td>\n",
       "      <td>unknown</td>\n",
       "      <td>Extra buses to clear tourist traffic</td>\n",
       "    </tr>\n",
       "    <tr>\n",
       "      <th>...</th>\n",
       "      <td>...</td>\n",
       "      <td>...</td>\n",
       "      <td>...</td>\n",
       "    </tr>\n",
       "    <tr>\n",
       "      <th>3424062</th>\n",
       "      <td>2020-12-31</td>\n",
       "      <td>city.jodhpur</td>\n",
       "      <td>Covid-19: Despite dip in cases; Rajasthan amon...</td>\n",
       "    </tr>\n",
       "    <tr>\n",
       "      <th>3424063</th>\n",
       "      <td>2020-12-31</td>\n",
       "      <td>city.udaipur</td>\n",
       "      <td>Covid-19: Despite dip in cases; Rajasthan amon...</td>\n",
       "    </tr>\n",
       "    <tr>\n",
       "      <th>3424064</th>\n",
       "      <td>2020-12-31</td>\n",
       "      <td>city.ajmer</td>\n",
       "      <td>Covid-19: Despite dip in cases; Rajasthan amon...</td>\n",
       "    </tr>\n",
       "    <tr>\n",
       "      <th>3424065</th>\n",
       "      <td>2020-12-31</td>\n",
       "      <td>removed</td>\n",
       "      <td>Govt extends deadline for use of FASTag till F...</td>\n",
       "    </tr>\n",
       "    <tr>\n",
       "      <th>3424066</th>\n",
       "      <td>2020-12-31</td>\n",
       "      <td>entertainment.bengali.movies.news</td>\n",
       "      <td>Celebs plan to party safely and responsibly on...</td>\n",
       "    </tr>\n",
       "  </tbody>\n",
       "</table>\n",
       "<p>3424067 rows × 3 columns</p>\n",
       "</div>"
      ],
      "text/plain": [
       "        publish_date                  headline_category  \\\n",
       "0         2001-01-02                            unknown   \n",
       "1         2001-01-02                            unknown   \n",
       "2         2001-01-02                            unknown   \n",
       "3         2001-01-02                            unknown   \n",
       "4         2001-01-02                            unknown   \n",
       "...              ...                                ...   \n",
       "3424062   2020-12-31                       city.jodhpur   \n",
       "3424063   2020-12-31                       city.udaipur   \n",
       "3424064   2020-12-31                         city.ajmer   \n",
       "3424065   2020-12-31                            removed   \n",
       "3424066   2020-12-31  entertainment.bengali.movies.news   \n",
       "\n",
       "                                             headline_text  \n",
       "0        Status quo will not be disturbed at Ayodhya; s...  \n",
       "1                      Fissures in Hurriyat over Pak visit  \n",
       "2                    America's unwanted heading for India?  \n",
       "3                       For bigwigs; it is destination Goa  \n",
       "4                     Extra buses to clear tourist traffic  \n",
       "...                                                    ...  \n",
       "3424062  Covid-19: Despite dip in cases; Rajasthan amon...  \n",
       "3424063  Covid-19: Despite dip in cases; Rajasthan amon...  \n",
       "3424064  Covid-19: Despite dip in cases; Rajasthan amon...  \n",
       "3424065  Govt extends deadline for use of FASTag till F...  \n",
       "3424066  Celebs plan to party safely and responsibly on...  \n",
       "\n",
       "[3424067 rows x 3 columns]"
      ]
     },
     "execution_count": 20,
     "metadata": {},
     "output_type": "execute_result"
    }
   ],
   "source": [
    "#converting stock_prices['Date'] object to datetime datatype\n",
    "stock_headlines['publish_date'] = pd.to_datetime(stock_headlines['publish_date'],format= '%Y%m%d')\n",
    "stock_headlines"
   ]
  },
  {
   "cell_type": "code",
   "execution_count": 21,
   "metadata": {
    "colab": {
     "base_uri": "https://localhost:8080/",
     "height": 419
    },
    "id": "1Bb8TDMM-dBK",
    "outputId": "e27d50dd-0c01-4c0a-b34b-e1402498fca3"
   },
   "outputs": [
    {
     "data": {
      "text/html": [
       "<div>\n",
       "<style scoped>\n",
       "    .dataframe tbody tr th:only-of-type {\n",
       "        vertical-align: middle;\n",
       "    }\n",
       "\n",
       "    .dataframe tbody tr th {\n",
       "        vertical-align: top;\n",
       "    }\n",
       "\n",
       "    .dataframe thead th {\n",
       "        text-align: right;\n",
       "    }\n",
       "</style>\n",
       "<table border=\"1\" class=\"dataframe\">\n",
       "  <thead>\n",
       "    <tr style=\"text-align: right;\">\n",
       "      <th></th>\n",
       "      <th>publish_date</th>\n",
       "      <th>headline_category</th>\n",
       "      <th>headline_text</th>\n",
       "    </tr>\n",
       "  </thead>\n",
       "  <tbody>\n",
       "    <tr>\n",
       "      <th>0</th>\n",
       "      <td>2001-01-02</td>\n",
       "      <td>unknown</td>\n",
       "      <td>Status quo will not be disturbed at Ayodhya; s...</td>\n",
       "    </tr>\n",
       "    <tr>\n",
       "      <th>1</th>\n",
       "      <td>2001-01-02</td>\n",
       "      <td>unknown</td>\n",
       "      <td>Fissures in Hurriyat over Pak visit</td>\n",
       "    </tr>\n",
       "    <tr>\n",
       "      <th>2</th>\n",
       "      <td>2001-01-02</td>\n",
       "      <td>unknown</td>\n",
       "      <td>America's unwanted heading for India?</td>\n",
       "    </tr>\n",
       "    <tr>\n",
       "      <th>3</th>\n",
       "      <td>2001-01-02</td>\n",
       "      <td>unknown</td>\n",
       "      <td>For bigwigs; it is destination Goa</td>\n",
       "    </tr>\n",
       "    <tr>\n",
       "      <th>4</th>\n",
       "      <td>2001-01-02</td>\n",
       "      <td>unknown</td>\n",
       "      <td>Extra buses to clear tourist traffic</td>\n",
       "    </tr>\n",
       "    <tr>\n",
       "      <th>...</th>\n",
       "      <td>...</td>\n",
       "      <td>...</td>\n",
       "      <td>...</td>\n",
       "    </tr>\n",
       "    <tr>\n",
       "      <th>3424062</th>\n",
       "      <td>2020-12-31</td>\n",
       "      <td>city.jodhpur</td>\n",
       "      <td>Covid-19: Despite dip in cases; Rajasthan amon...</td>\n",
       "    </tr>\n",
       "    <tr>\n",
       "      <th>3424063</th>\n",
       "      <td>2020-12-31</td>\n",
       "      <td>city.udaipur</td>\n",
       "      <td>Covid-19: Despite dip in cases; Rajasthan amon...</td>\n",
       "    </tr>\n",
       "    <tr>\n",
       "      <th>3424064</th>\n",
       "      <td>2020-12-31</td>\n",
       "      <td>city.ajmer</td>\n",
       "      <td>Covid-19: Despite dip in cases; Rajasthan amon...</td>\n",
       "    </tr>\n",
       "    <tr>\n",
       "      <th>3424065</th>\n",
       "      <td>2020-12-31</td>\n",
       "      <td>removed</td>\n",
       "      <td>Govt extends deadline for use of FASTag till F...</td>\n",
       "    </tr>\n",
       "    <tr>\n",
       "      <th>3424066</th>\n",
       "      <td>2020-12-31</td>\n",
       "      <td>entertainment.bengali.movies.news</td>\n",
       "      <td>Celebs plan to party safely and responsibly on...</td>\n",
       "    </tr>\n",
       "  </tbody>\n",
       "</table>\n",
       "<p>3399876 rows × 3 columns</p>\n",
       "</div>"
      ],
      "text/plain": [
       "        publish_date                  headline_category  \\\n",
       "0         2001-01-02                            unknown   \n",
       "1         2001-01-02                            unknown   \n",
       "2         2001-01-02                            unknown   \n",
       "3         2001-01-02                            unknown   \n",
       "4         2001-01-02                            unknown   \n",
       "...              ...                                ...   \n",
       "3424062   2020-12-31                       city.jodhpur   \n",
       "3424063   2020-12-31                       city.udaipur   \n",
       "3424064   2020-12-31                         city.ajmer   \n",
       "3424065   2020-12-31                            removed   \n",
       "3424066   2020-12-31  entertainment.bengali.movies.news   \n",
       "\n",
       "                                             headline_text  \n",
       "0        Status quo will not be disturbed at Ayodhya; s...  \n",
       "1                      Fissures in Hurriyat over Pak visit  \n",
       "2                    America's unwanted heading for India?  \n",
       "3                       For bigwigs; it is destination Goa  \n",
       "4                     Extra buses to clear tourist traffic  \n",
       "...                                                    ...  \n",
       "3424062  Covid-19: Despite dip in cases; Rajasthan amon...  \n",
       "3424063  Covid-19: Despite dip in cases; Rajasthan amon...  \n",
       "3424064  Covid-19: Despite dip in cases; Rajasthan amon...  \n",
       "3424065  Govt extends deadline for use of FASTag till F...  \n",
       "3424066  Celebs plan to party safely and responsibly on...  \n",
       "\n",
       "[3399876 rows x 3 columns]"
      ]
     },
     "execution_count": 21,
     "metadata": {},
     "output_type": "execute_result"
    }
   ],
   "source": [
    "#dropping any duplicate value\n",
    "stock_headlines.drop_duplicates()"
   ]
  },
  {
   "cell_type": "code",
   "execution_count": 22,
   "metadata": {
    "id": "vcH2_jXC_ypa"
   },
   "outputs": [],
   "source": [
    "#taking only publish_date column and headline_text\n",
    "stock_headlines = stock_headlines.filter(['publish_date', 'headline_text'])"
   ]
  },
  {
   "cell_type": "code",
   "execution_count": 23,
   "metadata": {
    "id": "yGnY81K1AEMg"
   },
   "outputs": [],
   "source": [
    "# grouping the news headlines according to Date\n",
    "stock_headlines = stock_headlines.groupby(['publish_date'])['headline_text'].apply(lambda x: ','.join(x)).reset_index()"
   ]
  },
  {
   "cell_type": "code",
   "execution_count": 24,
   "metadata": {
    "id": "cJxNcYvIAHEd"
   },
   "outputs": [],
   "source": [
    "#sorting the values according to publish_date\n",
    "stock_headlines=stock_headlines.sort_values(by='publish_date')"
   ]
  },
  {
   "cell_type": "code",
   "execution_count": 25,
   "metadata": {
    "colab": {
     "base_uri": "https://localhost:8080/",
     "height": 419
    },
    "id": "gGG8WxkQArHv",
    "outputId": "20e4c422-8c7c-4fb7-e520-94a438eb7ebd"
   },
   "outputs": [
    {
     "data": {
      "text/html": [
       "<div>\n",
       "<style scoped>\n",
       "    .dataframe tbody tr th:only-of-type {\n",
       "        vertical-align: middle;\n",
       "    }\n",
       "\n",
       "    .dataframe tbody tr th {\n",
       "        vertical-align: top;\n",
       "    }\n",
       "\n",
       "    .dataframe thead th {\n",
       "        text-align: right;\n",
       "    }\n",
       "</style>\n",
       "<table border=\"1\" class=\"dataframe\">\n",
       "  <thead>\n",
       "    <tr style=\"text-align: right;\">\n",
       "      <th></th>\n",
       "      <th>publish_date</th>\n",
       "      <th>headline_text</th>\n",
       "    </tr>\n",
       "  </thead>\n",
       "  <tbody>\n",
       "    <tr>\n",
       "      <th>0</th>\n",
       "      <td>2001-01-02</td>\n",
       "      <td>Status quo will not be disturbed at Ayodhya; s...</td>\n",
       "    </tr>\n",
       "    <tr>\n",
       "      <th>1</th>\n",
       "      <td>2001-01-03</td>\n",
       "      <td>Powerless north India gropes in the dark,Think...</td>\n",
       "    </tr>\n",
       "    <tr>\n",
       "      <th>2</th>\n",
       "      <td>2001-01-04</td>\n",
       "      <td>The string that pulled Stephen Hawking to Indi...</td>\n",
       "    </tr>\n",
       "    <tr>\n",
       "      <th>3</th>\n",
       "      <td>2001-01-05</td>\n",
       "      <td>Light combat craft takes India into club class...</td>\n",
       "    </tr>\n",
       "    <tr>\n",
       "      <th>4</th>\n",
       "      <td>2001-01-06</td>\n",
       "      <td>Light combat craft takes India into club class...</td>\n",
       "    </tr>\n",
       "    <tr>\n",
       "      <th>...</th>\n",
       "      <td>...</td>\n",
       "      <td>...</td>\n",
       "    </tr>\n",
       "    <tr>\n",
       "      <th>7257</th>\n",
       "      <td>2020-12-27</td>\n",
       "      <td>#BigInterview! Dhritiman Chatterjee: Nobody da...</td>\n",
       "    </tr>\n",
       "    <tr>\n",
       "      <th>7258</th>\n",
       "      <td>2020-12-28</td>\n",
       "      <td>Horoscope Today; 28 December 2020: Check astro...</td>\n",
       "    </tr>\n",
       "    <tr>\n",
       "      <th>7259</th>\n",
       "      <td>2020-12-29</td>\n",
       "      <td>Man recovers charred remains of 'thief' from h...</td>\n",
       "    </tr>\n",
       "    <tr>\n",
       "      <th>7260</th>\n",
       "      <td>2020-12-30</td>\n",
       "      <td>Numerology Readings 30 December 2020: Predicti...</td>\n",
       "    </tr>\n",
       "    <tr>\n",
       "      <th>7261</th>\n",
       "      <td>2020-12-31</td>\n",
       "      <td>Horoscope Today; 31 December 2020: Check astro...</td>\n",
       "    </tr>\n",
       "  </tbody>\n",
       "</table>\n",
       "<p>7262 rows × 2 columns</p>\n",
       "</div>"
      ],
      "text/plain": [
       "     publish_date                                      headline_text\n",
       "0      2001-01-02  Status quo will not be disturbed at Ayodhya; s...\n",
       "1      2001-01-03  Powerless north India gropes in the dark,Think...\n",
       "2      2001-01-04  The string that pulled Stephen Hawking to Indi...\n",
       "3      2001-01-05  Light combat craft takes India into club class...\n",
       "4      2001-01-06  Light combat craft takes India into club class...\n",
       "...           ...                                                ...\n",
       "7257   2020-12-27  #BigInterview! Dhritiman Chatterjee: Nobody da...\n",
       "7258   2020-12-28  Horoscope Today; 28 December 2020: Check astro...\n",
       "7259   2020-12-29  Man recovers charred remains of 'thief' from h...\n",
       "7260   2020-12-30  Numerology Readings 30 December 2020: Predicti...\n",
       "7261   2020-12-31  Horoscope Today; 31 December 2020: Check astro...\n",
       "\n",
       "[7262 rows x 2 columns]"
      ]
     },
     "execution_count": 25,
     "metadata": {},
     "output_type": "execute_result"
    }
   ],
   "source": [
    "stock_headlines"
   ]
  },
  {
   "cell_type": "code",
   "execution_count": 26,
   "metadata": {
    "id": "sH_pF6zAvFBi"
   },
   "outputs": [],
   "source": [
    "#renaming column 'publish_date' to 'Date'\n",
    "stock_headlines.columns=['Date','headline_text']"
   ]
  },
  {
   "cell_type": "code",
   "execution_count": 27,
   "metadata": {
    "colab": {
     "base_uri": "https://localhost:8080/",
     "height": 419
    },
    "id": "csxszQLzvNXP",
    "outputId": "2b24d1d5-b3a3-485c-cee9-606298128e5c"
   },
   "outputs": [
    {
     "data": {
      "text/html": [
       "<div>\n",
       "<style scoped>\n",
       "    .dataframe tbody tr th:only-of-type {\n",
       "        vertical-align: middle;\n",
       "    }\n",
       "\n",
       "    .dataframe tbody tr th {\n",
       "        vertical-align: top;\n",
       "    }\n",
       "\n",
       "    .dataframe thead th {\n",
       "        text-align: right;\n",
       "    }\n",
       "</style>\n",
       "<table border=\"1\" class=\"dataframe\">\n",
       "  <thead>\n",
       "    <tr style=\"text-align: right;\">\n",
       "      <th></th>\n",
       "      <th>Date</th>\n",
       "      <th>headline_text</th>\n",
       "    </tr>\n",
       "  </thead>\n",
       "  <tbody>\n",
       "    <tr>\n",
       "      <th>0</th>\n",
       "      <td>2001-01-02</td>\n",
       "      <td>Status quo will not be disturbed at Ayodhya; s...</td>\n",
       "    </tr>\n",
       "    <tr>\n",
       "      <th>1</th>\n",
       "      <td>2001-01-03</td>\n",
       "      <td>Powerless north India gropes in the dark,Think...</td>\n",
       "    </tr>\n",
       "    <tr>\n",
       "      <th>2</th>\n",
       "      <td>2001-01-04</td>\n",
       "      <td>The string that pulled Stephen Hawking to Indi...</td>\n",
       "    </tr>\n",
       "    <tr>\n",
       "      <th>3</th>\n",
       "      <td>2001-01-05</td>\n",
       "      <td>Light combat craft takes India into club class...</td>\n",
       "    </tr>\n",
       "    <tr>\n",
       "      <th>4</th>\n",
       "      <td>2001-01-06</td>\n",
       "      <td>Light combat craft takes India into club class...</td>\n",
       "    </tr>\n",
       "    <tr>\n",
       "      <th>...</th>\n",
       "      <td>...</td>\n",
       "      <td>...</td>\n",
       "    </tr>\n",
       "    <tr>\n",
       "      <th>7257</th>\n",
       "      <td>2020-12-27</td>\n",
       "      <td>#BigInterview! Dhritiman Chatterjee: Nobody da...</td>\n",
       "    </tr>\n",
       "    <tr>\n",
       "      <th>7258</th>\n",
       "      <td>2020-12-28</td>\n",
       "      <td>Horoscope Today; 28 December 2020: Check astro...</td>\n",
       "    </tr>\n",
       "    <tr>\n",
       "      <th>7259</th>\n",
       "      <td>2020-12-29</td>\n",
       "      <td>Man recovers charred remains of 'thief' from h...</td>\n",
       "    </tr>\n",
       "    <tr>\n",
       "      <th>7260</th>\n",
       "      <td>2020-12-30</td>\n",
       "      <td>Numerology Readings 30 December 2020: Predicti...</td>\n",
       "    </tr>\n",
       "    <tr>\n",
       "      <th>7261</th>\n",
       "      <td>2020-12-31</td>\n",
       "      <td>Horoscope Today; 31 December 2020: Check astro...</td>\n",
       "    </tr>\n",
       "  </tbody>\n",
       "</table>\n",
       "<p>7262 rows × 2 columns</p>\n",
       "</div>"
      ],
      "text/plain": [
       "           Date                                      headline_text\n",
       "0    2001-01-02  Status quo will not be disturbed at Ayodhya; s...\n",
       "1    2001-01-03  Powerless north India gropes in the dark,Think...\n",
       "2    2001-01-04  The string that pulled Stephen Hawking to Indi...\n",
       "3    2001-01-05  Light combat craft takes India into club class...\n",
       "4    2001-01-06  Light combat craft takes India into club class...\n",
       "...         ...                                                ...\n",
       "7257 2020-12-27  #BigInterview! Dhritiman Chatterjee: Nobody da...\n",
       "7258 2020-12-28  Horoscope Today; 28 December 2020: Check astro...\n",
       "7259 2020-12-29  Man recovers charred remains of 'thief' from h...\n",
       "7260 2020-12-30  Numerology Readings 30 December 2020: Predicti...\n",
       "7261 2020-12-31  Horoscope Today; 31 December 2020: Check astro...\n",
       "\n",
       "[7262 rows x 2 columns]"
      ]
     },
     "execution_count": 27,
     "metadata": {},
     "output_type": "execute_result"
    }
   ],
   "source": [
    "stock_headlines"
   ]
  },
  {
   "cell_type": "code",
   "execution_count": 28,
   "metadata": {
    "id": "ogxnxmRquq3A"
   },
   "outputs": [],
   "source": [
    "#merging stock_prices and stock_headlines w.r.t to date\n",
    "stock_data=pd.merge(stock_prices,stock_headlines, on='Date')"
   ]
  },
  {
   "cell_type": "code",
   "execution_count": 29,
   "metadata": {
    "colab": {
     "base_uri": "https://localhost:8080/",
     "height": 419
    },
    "id": "JnZYx8Yfp1h8",
    "outputId": "79472464-649a-4d4b-d0fb-5f65b0e19c87"
   },
   "outputs": [
    {
     "data": {
      "text/html": [
       "<div>\n",
       "<style scoped>\n",
       "    .dataframe tbody tr th:only-of-type {\n",
       "        vertical-align: middle;\n",
       "    }\n",
       "\n",
       "    .dataframe tbody tr th {\n",
       "        vertical-align: top;\n",
       "    }\n",
       "\n",
       "    .dataframe thead th {\n",
       "        text-align: right;\n",
       "    }\n",
       "</style>\n",
       "<table border=\"1\" class=\"dataframe\">\n",
       "  <thead>\n",
       "    <tr style=\"text-align: right;\">\n",
       "      <th></th>\n",
       "      <th>Date</th>\n",
       "      <th>Open</th>\n",
       "      <th>High</th>\n",
       "      <th>Low</th>\n",
       "      <th>Close</th>\n",
       "      <th>Adj Close</th>\n",
       "      <th>Volume</th>\n",
       "      <th>headline_text</th>\n",
       "    </tr>\n",
       "  </thead>\n",
       "  <tbody>\n",
       "    <tr>\n",
       "      <th>0</th>\n",
       "      <td>2019-12-17</td>\n",
       "      <td>41052.359375</td>\n",
       "      <td>41401.648438</td>\n",
       "      <td>41005.179688</td>\n",
       "      <td>41352.171875</td>\n",
       "      <td>41352.171875</td>\n",
       "      <td>19000.0</td>\n",
       "      <td>After Jagannath Temple; Puri beach devpt plan ...</td>\n",
       "    </tr>\n",
       "    <tr>\n",
       "      <th>1</th>\n",
       "      <td>2019-12-18</td>\n",
       "      <td>41442.750000</td>\n",
       "      <td>41614.769531</td>\n",
       "      <td>41358.468750</td>\n",
       "      <td>41558.570313</td>\n",
       "      <td>41558.570313</td>\n",
       "      <td>24300.0</td>\n",
       "      <td>What is Citizenship (Amendment) Bill 2019: All...</td>\n",
       "    </tr>\n",
       "    <tr>\n",
       "      <th>2</th>\n",
       "      <td>2019-12-19</td>\n",
       "      <td>41571.820313</td>\n",
       "      <td>41719.289063</td>\n",
       "      <td>41456.398438</td>\n",
       "      <td>41673.921875</td>\n",
       "      <td>41673.921875</td>\n",
       "      <td>33300.0</td>\n",
       "      <td>Only 61% of CCA covered after revamp of canals...</td>\n",
       "    </tr>\n",
       "    <tr>\n",
       "      <th>3</th>\n",
       "      <td>2019-12-20</td>\n",
       "      <td>41746.199219</td>\n",
       "      <td>41809.960938</td>\n",
       "      <td>41636.109375</td>\n",
       "      <td>41681.539063</td>\n",
       "      <td>41681.539063</td>\n",
       "      <td>33600.0</td>\n",
       "      <td>I'm done playing the good girl; I want to be a...</td>\n",
       "    </tr>\n",
       "    <tr>\n",
       "      <th>4</th>\n",
       "      <td>2019-12-23</td>\n",
       "      <td>41548.261719</td>\n",
       "      <td>41701.621094</td>\n",
       "      <td>41474.609375</td>\n",
       "      <td>41642.660156</td>\n",
       "      <td>41642.660156</td>\n",
       "      <td>6200.0</td>\n",
       "      <td>Weekly Horoscope; December 22-28: Check predic...</td>\n",
       "    </tr>\n",
       "    <tr>\n",
       "      <th>...</th>\n",
       "      <td>...</td>\n",
       "      <td>...</td>\n",
       "      <td>...</td>\n",
       "      <td>...</td>\n",
       "      <td>...</td>\n",
       "      <td>...</td>\n",
       "      <td>...</td>\n",
       "      <td>...</td>\n",
       "    </tr>\n",
       "    <tr>\n",
       "      <th>245</th>\n",
       "      <td>2020-12-11</td>\n",
       "      <td>46060.320313</td>\n",
       "      <td>46309.628906</td>\n",
       "      <td>45706.218750</td>\n",
       "      <td>46099.011719</td>\n",
       "      <td>46099.011719</td>\n",
       "      <td>26300.0</td>\n",
       "      <td>Ways to get you in the mood for sex when you'r...</td>\n",
       "    </tr>\n",
       "    <tr>\n",
       "      <th>246</th>\n",
       "      <td>2020-12-14</td>\n",
       "      <td>46284.699219</td>\n",
       "      <td>46373.339844</td>\n",
       "      <td>45951.531250</td>\n",
       "      <td>46253.460938</td>\n",
       "      <td>46253.460938</td>\n",
       "      <td>18400.0</td>\n",
       "      <td>No threat from Covid claims to balance sheets,...</td>\n",
       "    </tr>\n",
       "    <tr>\n",
       "      <th>247</th>\n",
       "      <td>2020-12-15</td>\n",
       "      <td>46287.390625</td>\n",
       "      <td>46350.300781</td>\n",
       "      <td>45841.671875</td>\n",
       "      <td>46263.171875</td>\n",
       "      <td>46263.171875</td>\n",
       "      <td>16400.0</td>\n",
       "      <td>1;147 RT-PCR tests in a day; only 3 found +ve ...</td>\n",
       "    </tr>\n",
       "    <tr>\n",
       "      <th>248</th>\n",
       "      <td>2020-12-16</td>\n",
       "      <td>46573.308594</td>\n",
       "      <td>46704.968750</td>\n",
       "      <td>46402.199219</td>\n",
       "      <td>46666.460938</td>\n",
       "      <td>46666.460938</td>\n",
       "      <td>13100.0</td>\n",
       "      <td>Asmita Sood's favourite holiday destinations a...</td>\n",
       "    </tr>\n",
       "    <tr>\n",
       "      <th>249</th>\n",
       "      <td>2020-12-17</td>\n",
       "      <td>46774.320313</td>\n",
       "      <td>46992.570313</td>\n",
       "      <td>46627.601563</td>\n",
       "      <td>46890.339844</td>\n",
       "      <td>46890.339844</td>\n",
       "      <td>0.0</td>\n",
       "      <td>Horoscope Today; 17 December 2020: Check astro...</td>\n",
       "    </tr>\n",
       "  </tbody>\n",
       "</table>\n",
       "<p>250 rows × 8 columns</p>\n",
       "</div>"
      ],
      "text/plain": [
       "          Date          Open          High           Low         Close  \\\n",
       "0   2019-12-17  41052.359375  41401.648438  41005.179688  41352.171875   \n",
       "1   2019-12-18  41442.750000  41614.769531  41358.468750  41558.570313   \n",
       "2   2019-12-19  41571.820313  41719.289063  41456.398438  41673.921875   \n",
       "3   2019-12-20  41746.199219  41809.960938  41636.109375  41681.539063   \n",
       "4   2019-12-23  41548.261719  41701.621094  41474.609375  41642.660156   \n",
       "..         ...           ...           ...           ...           ...   \n",
       "245 2020-12-11  46060.320313  46309.628906  45706.218750  46099.011719   \n",
       "246 2020-12-14  46284.699219  46373.339844  45951.531250  46253.460938   \n",
       "247 2020-12-15  46287.390625  46350.300781  45841.671875  46263.171875   \n",
       "248 2020-12-16  46573.308594  46704.968750  46402.199219  46666.460938   \n",
       "249 2020-12-17  46774.320313  46992.570313  46627.601563  46890.339844   \n",
       "\n",
       "        Adj Close   Volume                                      headline_text  \n",
       "0    41352.171875  19000.0  After Jagannath Temple; Puri beach devpt plan ...  \n",
       "1    41558.570313  24300.0  What is Citizenship (Amendment) Bill 2019: All...  \n",
       "2    41673.921875  33300.0  Only 61% of CCA covered after revamp of canals...  \n",
       "3    41681.539063  33600.0  I'm done playing the good girl; I want to be a...  \n",
       "4    41642.660156   6200.0  Weekly Horoscope; December 22-28: Check predic...  \n",
       "..            ...      ...                                                ...  \n",
       "245  46099.011719  26300.0  Ways to get you in the mood for sex when you'r...  \n",
       "246  46253.460938  18400.0  No threat from Covid claims to balance sheets,...  \n",
       "247  46263.171875  16400.0  1;147 RT-PCR tests in a day; only 3 found +ve ...  \n",
       "248  46666.460938  13100.0  Asmita Sood's favourite holiday destinations a...  \n",
       "249  46890.339844      0.0  Horoscope Today; 17 December 2020: Check astro...  \n",
       "\n",
       "[250 rows x 8 columns]"
      ]
     },
     "execution_count": 29,
     "metadata": {},
     "output_type": "execute_result"
    }
   ],
   "source": [
    "stock_data"
   ]
  },
  {
   "cell_type": "code",
   "execution_count": 30,
   "metadata": {
    "colab": {
     "base_uri": "https://localhost:8080/",
     "height": 609
    },
    "id": "SP6xH7T7vuXC",
    "outputId": "dedf52d4-f8f9-4295-e41d-f79e93f16031"
   },
   "outputs": [
    {
     "data": {
      "text/plain": [
       "<AxesSubplot:>"
      ]
     },
     "execution_count": 30,
     "metadata": {},
     "output_type": "execute_result"
    },
    {
     "data": {
      "image/png": "[encoded data removed]",
      "text/plain": [
       "<Figure size 1080x720 with 1 Axes>"
      ]
     },
     "metadata": {
      "needs_background": "light"
     },
     "output_type": "display_data"
    }
   ],
   "source": [
    "# Setting figure size\n",
    "plt.figure(figsize=(15,10))\n",
    "\n",
    "# Plotting the close price and  rolling mean of close price\n",
    "stock_data['Close'].plot()\n",
    "mean=stock_data['Close'].rolling(window=5).mean()\n",
    "\n",
    "mean.plot(color = 'r', label = 'Rolling Mean')\n"
   ]
  },
  {
   "cell_type": "code",
   "execution_count": 31,
   "metadata": {
    "colab": {
     "base_uri": "https://localhost:8080/"
    },
    "id": "MZwJQ2Ov1jam",
    "outputId": "69ae4866-a5ff-4a7a-f41e-e20fe24fc588"
   },
   "outputs": [
    {
     "name": "stdout",
     "output_type": "stream",
     "text": [
      "Start calculating sentiment scores:\n",
      "Compound Done\n"
     ]
    }
   ],
   "source": [
    "# Doing the sentiment analysis of the headlines\n",
    "from nltk.sentiment.vader import SentimentIntensityAnalyzer\n",
    "\n",
    "sid = SentimentIntensityAnalyzer()\n",
    "print('Start calculating sentiment scores:')\n",
    "\n",
    "stock_data['compound'] = stock_data['headline_text'].apply(lambda x: sid.polarity_scores(x)['compound'])\n",
    "print('Compound Done')"
   ]
  },
  {
   "cell_type": "code",
   "execution_count": 32,
   "metadata": {
    "colab": {
     "base_uri": "https://localhost:8080/",
     "height": 638
    },
    "id": "N3seauoA5JGn",
    "outputId": "c360f4c0-fc24-4242-a6af-19127edcd5a1"
   },
   "outputs": [
    {
     "data": {
      "text/plain": [
       "Text(0, 0.5, 'Close Price (INR)')"
      ]
     },
     "execution_count": 32,
     "metadata": {},
     "output_type": "execute_result"
    },
    {
     "data": {
      "image/png": "[encoded data removed]",
      "text/plain": [
       "<Figure size 1080x720 with 1 Axes>"
      ]
     },
     "metadata": {
      "needs_background": "light"
     },
     "output_type": "display_data"
    }
   ],
   "source": [
    "#Setting plot size and labels\n",
    "plt.figure(figsize=(15,10))\n",
    "\n",
    "plt.plot(stock_data['Date'],stock_data['Close'])\n",
    "\n",
    "\n",
    "plt.title(\"Close Price\")\n",
    "plt.xlabel('Date')\n",
    "plt.ylabel('Close Price (INR)')"
   ]
  },
  {
   "cell_type": "code",
   "execution_count": 33,
   "metadata": {
    "colab": {
     "base_uri": "https://localhost:8080/",
     "height": 419
    },
    "id": "Spa6SImI4qU_",
    "outputId": "b4c8af91-46aa-4ebf-cbe7-1f056233c646"
   },
   "outputs": [
    {
     "data": {
      "text/html": [
       "<div>\n",
       "<style scoped>\n",
       "    .dataframe tbody tr th:only-of-type {\n",
       "        vertical-align: middle;\n",
       "    }\n",
       "\n",
       "    .dataframe tbody tr th {\n",
       "        vertical-align: top;\n",
       "    }\n",
       "\n",
       "    .dataframe thead th {\n",
       "        text-align: right;\n",
       "    }\n",
       "</style>\n",
       "<table border=\"1\" class=\"dataframe\">\n",
       "  <thead>\n",
       "    <tr style=\"text-align: right;\">\n",
       "      <th></th>\n",
       "      <th>Date</th>\n",
       "      <th>Open</th>\n",
       "      <th>High</th>\n",
       "      <th>Low</th>\n",
       "      <th>Close</th>\n",
       "      <th>Adj Close</th>\n",
       "      <th>Volume</th>\n",
       "      <th>headline_text</th>\n",
       "      <th>compound</th>\n",
       "    </tr>\n",
       "  </thead>\n",
       "  <tbody>\n",
       "    <tr>\n",
       "      <th>0</th>\n",
       "      <td>2019-12-17</td>\n",
       "      <td>41052.359375</td>\n",
       "      <td>41401.648438</td>\n",
       "      <td>41005.179688</td>\n",
       "      <td>41352.171875</td>\n",
       "      <td>41352.171875</td>\n",
       "      <td>19000.0</td>\n",
       "      <td>After Jagannath Temple; Puri beach devpt plan ...</td>\n",
       "      <td>-1.0000</td>\n",
       "    </tr>\n",
       "    <tr>\n",
       "      <th>1</th>\n",
       "      <td>2019-12-18</td>\n",
       "      <td>41442.750000</td>\n",
       "      <td>41614.769531</td>\n",
       "      <td>41358.468750</td>\n",
       "      <td>41558.570313</td>\n",
       "      <td>41558.570313</td>\n",
       "      <td>24300.0</td>\n",
       "      <td>What is Citizenship (Amendment) Bill 2019: All...</td>\n",
       "      <td>-0.9999</td>\n",
       "    </tr>\n",
       "    <tr>\n",
       "      <th>2</th>\n",
       "      <td>2019-12-19</td>\n",
       "      <td>41571.820313</td>\n",
       "      <td>41719.289063</td>\n",
       "      <td>41456.398438</td>\n",
       "      <td>41673.921875</td>\n",
       "      <td>41673.921875</td>\n",
       "      <td>33300.0</td>\n",
       "      <td>Only 61% of CCA covered after revamp of canals...</td>\n",
       "      <td>-0.9997</td>\n",
       "    </tr>\n",
       "    <tr>\n",
       "      <th>3</th>\n",
       "      <td>2019-12-20</td>\n",
       "      <td>41746.199219</td>\n",
       "      <td>41809.960938</td>\n",
       "      <td>41636.109375</td>\n",
       "      <td>41681.539063</td>\n",
       "      <td>41681.539063</td>\n",
       "      <td>33600.0</td>\n",
       "      <td>I'm done playing the good girl; I want to be a...</td>\n",
       "      <td>-0.9999</td>\n",
       "    </tr>\n",
       "    <tr>\n",
       "      <th>4</th>\n",
       "      <td>2019-12-23</td>\n",
       "      <td>41548.261719</td>\n",
       "      <td>41701.621094</td>\n",
       "      <td>41474.609375</td>\n",
       "      <td>41642.660156</td>\n",
       "      <td>41642.660156</td>\n",
       "      <td>6200.0</td>\n",
       "      <td>Weekly Horoscope; December 22-28: Check predic...</td>\n",
       "      <td>-0.9997</td>\n",
       "    </tr>\n",
       "  </tbody>\n",
       "</table>\n",
       "</div>"
      ],
      "text/plain": [
       "        Date          Open          High           Low         Close  \\\n",
       "0 2019-12-17  41052.359375  41401.648438  41005.179688  41352.171875   \n",
       "1 2019-12-18  41442.750000  41614.769531  41358.468750  41558.570313   \n",
       "2 2019-12-19  41571.820313  41719.289063  41456.398438  41673.921875   \n",
       "3 2019-12-20  41746.199219  41809.960938  41636.109375  41681.539063   \n",
       "4 2019-12-23  41548.261719  41701.621094  41474.609375  41642.660156   \n",
       "\n",
       "      Adj Close   Volume                                      headline_text  \\\n",
       "0  41352.171875  19000.0  After Jagannath Temple; Puri beach devpt plan ...   \n",
       "1  41558.570313  24300.0  What is Citizenship (Amendment) Bill 2019: All...   \n",
       "2  41673.921875  33300.0  Only 61% of CCA covered after revamp of canals...   \n",
       "3  41681.539063  33600.0  I'm done playing the good girl; I want to be a...   \n",
       "4  41642.660156   6200.0  Weekly Horoscope; December 22-28: Check predic...   \n",
       "\n",
       "   compound  \n",
       "0   -1.0000  \n",
       "1   -0.9999  \n",
       "2   -0.9997  \n",
       "3   -0.9999  \n",
       "4   -0.9997  "
      ]
     },
     "execution_count": 33,
     "metadata": {},
     "output_type": "execute_result"
    }
   ],
   "source": [
    "stock_data.head()"
   ]
  },
  {
   "cell_type": "code",
   "execution_count": 34,
   "metadata": {
    "colab": {
     "base_uri": "https://localhost:8080/",
     "height": 204
    },
    "id": "2NmXlVRX4uiQ",
    "outputId": "c56a3795-0f31-487e-9231-fe81d7720926"
   },
   "outputs": [
    {
     "data": {
      "text/html": [
       "<div>\n",
       "<style scoped>\n",
       "    .dataframe tbody tr th:only-of-type {\n",
       "        vertical-align: middle;\n",
       "    }\n",
       "\n",
       "    .dataframe tbody tr th {\n",
       "        vertical-align: top;\n",
       "    }\n",
       "\n",
       "    .dataframe thead th {\n",
       "        text-align: right;\n",
       "    }\n",
       "</style>\n",
       "<table border=\"1\" class=\"dataframe\">\n",
       "  <thead>\n",
       "    <tr style=\"text-align: right;\">\n",
       "      <th></th>\n",
       "      <th>Open</th>\n",
       "      <th>High</th>\n",
       "      <th>Low</th>\n",
       "      <th>Volume</th>\n",
       "      <th>compound</th>\n",
       "      <th>Close</th>\n",
       "    </tr>\n",
       "  </thead>\n",
       "  <tbody>\n",
       "    <tr>\n",
       "      <th>0</th>\n",
       "      <td>41052.359375</td>\n",
       "      <td>41401.648438</td>\n",
       "      <td>41005.179688</td>\n",
       "      <td>19000.0</td>\n",
       "      <td>-1.0000</td>\n",
       "      <td>41352.171875</td>\n",
       "    </tr>\n",
       "    <tr>\n",
       "      <th>1</th>\n",
       "      <td>41442.750000</td>\n",
       "      <td>41614.769531</td>\n",
       "      <td>41358.468750</td>\n",
       "      <td>24300.0</td>\n",
       "      <td>-0.9999</td>\n",
       "      <td>41558.570313</td>\n",
       "    </tr>\n",
       "    <tr>\n",
       "      <th>2</th>\n",
       "      <td>41571.820313</td>\n",
       "      <td>41719.289063</td>\n",
       "      <td>41456.398438</td>\n",
       "      <td>33300.0</td>\n",
       "      <td>-0.9997</td>\n",
       "      <td>41673.921875</td>\n",
       "    </tr>\n",
       "    <tr>\n",
       "      <th>3</th>\n",
       "      <td>41746.199219</td>\n",
       "      <td>41809.960938</td>\n",
       "      <td>41636.109375</td>\n",
       "      <td>33600.0</td>\n",
       "      <td>-0.9999</td>\n",
       "      <td>41681.539063</td>\n",
       "    </tr>\n",
       "    <tr>\n",
       "      <th>4</th>\n",
       "      <td>41548.261719</td>\n",
       "      <td>41701.621094</td>\n",
       "      <td>41474.609375</td>\n",
       "      <td>6200.0</td>\n",
       "      <td>-0.9997</td>\n",
       "      <td>41642.660156</td>\n",
       "    </tr>\n",
       "  </tbody>\n",
       "</table>\n",
       "</div>"
      ],
      "text/plain": [
       "           Open          High           Low   Volume  compound         Close\n",
       "0  41052.359375  41401.648438  41005.179688  19000.0   -1.0000  41352.171875\n",
       "1  41442.750000  41614.769531  41358.468750  24300.0   -0.9999  41558.570313\n",
       "2  41571.820313  41719.289063  41456.398438  33300.0   -0.9997  41673.921875\n",
       "3  41746.199219  41809.960938  41636.109375  33600.0   -0.9999  41681.539063\n",
       "4  41548.261719  41701.621094  41474.609375   6200.0   -0.9997  41642.660156"
      ]
     },
     "execution_count": 34,
     "metadata": {},
     "output_type": "execute_result"
    }
   ],
   "source": [
    "# Dropping unwanted 'headline_text' and rearranging columns\n",
    "stock_data.drop(['headline_text'], inplace=True, axis=1)\n",
    "stock_data = stock_data[[ 'Open', 'High', 'Low', 'Volume', 'compound', 'Close']]\n",
    "\n",
    "# final stock_data\n",
    "stock_data.head()"
   ]
  },
  {
   "cell_type": "code",
   "execution_count": 35,
   "metadata": {
    "id": "5xcRuaFb8I1E"
   },
   "outputs": [],
   "source": [
    "X=stock_data.iloc[:,:-1].values\n",
    "Y=stock_data.iloc[:,-1].values"
   ]
  },
  {
   "cell_type": "code",
   "execution_count": 36,
   "metadata": {
    "id": "Jc8QWbvD8bxT"
   },
   "outputs": [],
   "source": [
    "# Splitting the dataset into training and test set\n",
    "from sklearn.model_selection import train_test_split\n",
    "X_train,X_test,Y_train,Y_test=train_test_split(X,Y,test_size=0.2,random_state=0)\n"
   ]
  },
  {
   "cell_type": "code",
   "execution_count": 37,
   "metadata": {
    "colab": {
     "base_uri": "https://localhost:8080/"
    },
    "id": "QvrfMEqE_Mfa",
    "outputId": "bc92bbc5-fbdc-4d39-a2a9-3fd00618554d"
   },
   "outputs": [
    {
     "name": "stdout",
     "output_type": "stream",
     "text": [
      "Collecting xgboost\n",
      "  Downloading xgboost-1.4.2-py3-none-win_amd64.whl (97.8 MB)\n",
      "Requirement already satisfied: numpy in c:\\users\\amang\\anaconda3\\lib\\site-packages (from xgboost) (1.20.1)\n",
      "Requirement already satisfied: scipy in c:\\users\\amang\\anaconda3\\lib\\site-packages (from xgboost) (1.6.2)\n",
      "Installing collected packages: xgboost\n",
      "Successfully installed xgboost-1.4.2\n"
     ]
    },
    {
     "data": {
      "text/plain": [
       "XGBRegressor(base_score=0.5, booster='gbtree', colsample_bylevel=1,\n",
       "             colsample_bynode=1, colsample_bytree=1, gamma=0, gpu_id=-1,\n",
       "             importance_type='gain', interaction_constraints='',\n",
       "             learning_rate=0.300000012, max_delta_step=0, max_depth=6,\n",
       "             min_child_weight=1, missing=nan, monotone_constraints='()',\n",
       "             n_estimators=100, n_jobs=8, num_parallel_tree=1, random_state=0,\n",
       "             reg_alpha=0, reg_lambda=1, scale_pos_weight=1, subsample=1,\n",
       "             tree_method='exact', validate_parameters=1, verbosity=None)"
      ]
     },
     "execution_count": 37,
     "metadata": {},
     "output_type": "execute_result"
    }
   ],
   "source": [
    "# Data modelling\n",
    "!pip install xgboost\n",
    "import xgboost \n",
    "xgb = xgboost.XGBRegressor()\n",
    "xgb.fit(X_train, Y_train)"
   ]
  },
  {
   "cell_type": "code",
   "execution_count": 38,
   "metadata": {
    "colab": {
     "base_uri": "https://localhost:8080/"
    },
    "id": "TMkjryBp_v76",
    "outputId": "ade2f4d9-1bf3-4d35-e384-dfdee9131d8d"
   },
   "outputs": [
    {
     "data": {
      "text/plain": [
       "array([[ 4.34440586e+04,  4.37084688e+04,  4.29702109e+04,\n",
       "         3.03000000e+04,  9.97400000e-01],\n",
       "       [ 3.33715195e+04,  3.42760117e+04,  3.33715195e+04,\n",
       "         2.12000000e+04, -9.99700000e-01],\n",
       "       [ 3.15776309e+04,  3.19708398e+04,  3.11587500e+04,\n",
       "         1.92000000e+04, -9.98700000e-01],\n",
       "       [ 3.79468008e+04,  3.82213984e+04,  3.77551016e+04,\n",
       "         1.66000000e+04, -9.99300000e-01],\n",
       "       [ 3.75957305e+04,  3.75960195e+04,  3.69112305e+04,\n",
       "         1.43000000e+04, -9.99500000e-01],\n",
       "       [ 3.83211289e+04,  3.84143711e+04,  3.81258086e+04,\n",
       "         2.53000000e+04, -9.99700000e-01],\n",
       "       [ 3.89567812e+04,  3.92638516e+04,  3.88198906e+04,\n",
       "         1.55000000e+04, -9.98900000e-01],\n",
       "       [ 3.08561406e+04,  3.14711406e+04,  3.05785508e+04,\n",
       "         2.10000000e+04, -9.99700000e-01],\n",
       "       [ 2.77733594e+04,  2.93705293e+04,  2.67144609e+04,\n",
       "         3.32000000e+04, -9.99900000e-01],\n",
       "       [ 3.70928594e+04,  3.77456016e+04,  3.69877305e+04,\n",
       "         1.51000000e+04, -9.99300000e-01],\n",
       "       [ 3.98803789e+04,  3.99680312e+04,  3.93349219e+04,\n",
       "         1.54000000e+04, -9.99600000e-01],\n",
       "       [ 4.37321406e+04,  4.40130195e+04,  4.34537500e+04,\n",
       "         1.71000000e+04, -9.99800000e-01],\n",
       "       [ 3.20412891e+04,  3.24805195e+04,  3.18238008e+04,\n",
       "         3.71000000e+04, -9.99800000e-01],\n",
       "       [ 3.91610117e+04,  3.93595117e+04,  3.90379609e+04,\n",
       "         1.17000000e+04, -9.99800000e-01],\n",
       "       [ 3.40291406e+04,  3.43501719e+04,  3.39494609e+04,\n",
       "         1.55000000e+04, -9.99700000e-01],\n",
       "       [ 2.86235293e+04,  2.86391191e+04,  2.75007891e+04,\n",
       "         1.89000000e+04, -9.98300000e-01],\n",
       "       [ 4.07169492e+04,  4.09054883e+04,  4.03873984e+04,\n",
       "         1.76000000e+04, -9.99900000e-01],\n",
       "       [ 3.68806602e+04,  3.70241992e+04,  3.65339609e+04,\n",
       "         1.65000000e+04, -9.99700000e-01],\n",
       "       [ 3.82628281e+04,  3.84138086e+04,  3.76784219e+04,\n",
       "         1.48000000e+04, -9.99600000e-01],\n",
       "       [ 3.13429297e+04,  3.15368906e+04,  3.08446602e+04,\n",
       "         2.31000000e+04, -9.99400000e-01],\n",
       "       [ 3.78923594e+04,  3.81399609e+04,  3.75506016e+04,\n",
       "         1.98000000e+04, -9.99600000e-01],\n",
       "       [ 4.13349609e+04,  4.13999297e+04,  4.11343086e+04,\n",
       "         8.40000000e+03, -9.99900000e-01],\n",
       "       [ 4.44358281e+04,  4.47307891e+04,  4.41181016e+04,\n",
       "         1.60000000e+04, -9.99900000e-01],\n",
       "       [ 3.41854102e+04,  3.44886914e+04,  3.40275000e+04,\n",
       "         1.84000000e+04, -9.99600000e-01],\n",
       "       [ 3.80521797e+04,  3.85547188e+04,  3.79981289e+04,\n",
       "         1.55000000e+04, -9.99200000e-01],\n",
       "       [ 3.27481406e+04,  3.27481406e+04,  3.16320195e+04,\n",
       "         1.83000000e+04, -9.99500000e-01],\n",
       "       [ 4.16862695e+04,  4.17147305e+04,  4.14533789e+04,\n",
       "         5.70000000e+03, -9.99900000e-01],\n",
       "       [ 3.76139609e+04,  3.77470703e+04,  3.70110898e+04,\n",
       "         1.90000000e+04, -9.99900000e-01],\n",
       "       [ 3.77562500e+04,  3.80358711e+04,  3.75440508e+04,\n",
       "         1.36000000e+04, -9.99800000e-01],\n",
       "       [ 4.11667188e+04,  4.11720586e+04,  4.07989805e+04,\n",
       "         1.52000000e+04, -9.99900000e-01],\n",
       "       [ 4.05925391e+04,  4.07868203e+04,  4.04619688e+04,\n",
       "         1.10000000e+04, -9.99900000e-01],\n",
       "       [ 3.05711895e+04,  3.12251992e+04,  3.04202207e+04,\n",
       "         1.88000000e+04, -9.96600000e-01],\n",
       "       [ 3.34501914e+04,  3.38666289e+04,  3.33012891e+04,\n",
       "         7.56000000e+04, -9.99800000e-01],\n",
       "       [ 3.92644805e+04,  3.95795781e+04,  3.92350312e+04,\n",
       "         2.25000000e+04, -9.99500000e-01],\n",
       "       [ 3.87278906e+04,  3.87885117e+04,  3.85506484e+04,\n",
       "         1.28000000e+04, -9.99800000e-01],\n",
       "       [ 3.67383789e+04,  3.68284297e+04,  3.62341719e+04,\n",
       "         2.48000000e+04, -9.99800000e-01],\n",
       "       [ 3.51683008e+04,  3.52339102e+04,  3.48128008e+04,\n",
       "         1.85000000e+04, -9.99800000e-01],\n",
       "       [ 4.16845117e+04,  4.17029805e+04,  4.14230703e+04,\n",
       "         4.40000000e+03, -9.99900000e-01],\n",
       "       [ 4.22630000e+04,  4.22738711e+04,  4.15033711e+04,\n",
       "         7.50000000e+03, -9.99700000e-01],\n",
       "       [ 3.56797383e+04,  3.57065508e+04,  3.47949297e+04,\n",
       "         2.66000000e+04, -9.99700000e-01],\n",
       "       [ 3.24366895e+04,  3.38562695e+04,  3.23480996e+04,\n",
       "         2.30000000e+04, -9.99800000e-01],\n",
       "       [ 4.13783398e+04,  4.13783398e+04,  4.06139609e+04,\n",
       "         8.70000000e+03, -9.99600000e-01],\n",
       "       [ 3.18278008e+04,  3.22672305e+04,  3.16417695e+04,\n",
       "         2.75000000e+04, -9.99700000e-01],\n",
       "       [ 3.88926406e+04,  3.91418398e+04,  3.87362188e+04,\n",
       "         1.71000000e+04, -9.99500000e-01],\n",
       "       [ 3.33811914e+04,  3.38872500e+04,  3.33549297e+04,\n",
       "         2.11000000e+04, -9.99400000e-01],\n",
       "       [ 3.28418711e+04,  3.28454805e+04,  3.19019199e+04,\n",
       "         1.84000000e+04, -9.99700000e-01],\n",
       "       [ 3.84566406e+04,  3.85168516e+04,  3.82150508e+04,\n",
       "         1.54000000e+04, -9.99800000e-01],\n",
       "       [ 4.11215117e+04,  4.13571602e+04,  4.10489297e+04,\n",
       "         5.60000000e+03, -9.99900000e-01],\n",
       "       [ 2.84608203e+04,  3.04181992e+04,  2.79326699e+04,\n",
       "         3.21000000e+04, -9.99900000e-01],\n",
       "       [ 3.82847812e+04,  3.85199219e+04,  3.80607383e+04,\n",
       "         1.25000000e+04, -9.99700000e-01]])"
      ]
     },
     "execution_count": 38,
     "metadata": {},
     "output_type": "execute_result"
    }
   ],
   "source": [
    "# Getting the prediction\n",
    "predictions = xgb.predict(X_test)\n",
    "X_test"
   ]
  },
  {
   "cell_type": "code",
   "execution_count": 39,
   "metadata": {
    "colab": {
     "base_uri": "https://localhost:8080/",
     "height": 421
    },
    "id": "j6-Hbep5Aavo",
    "outputId": "c671a553-052b-4407-9db7-23288c56b65c"
   },
   "outputs": [
    {
     "data": {
      "text/plain": [
       "Text(0, 0.5, 'Stock Price')"
      ]
     },
     "execution_count": 39,
     "metadata": {},
     "output_type": "execute_result"
    },
    {
     "data": {
      "image/png": "[encoded data removed]",
      "text/plain": [
       "<Figure size 1080x432 with 1 Axes>"
      ]
     },
     "metadata": {
      "needs_background": "light"
     },
     "output_type": "display_data"
    }
   ],
   "source": [
    "# Plotting prediction w.r.t Y_test\n",
    "plt.figure(figsize=(15,6))\n",
    "plt.plot(Y_test, label='Test', color='b')\n",
    "plt.plot(predictions, label='Prediction', color='r')\n",
    "plt.title('BSESN Stock Price Prediction')\n",
    "plt.xlabel('Time')\n",
    "plt.ylabel('Stock Price')"
   ]
  },
  {
   "cell_type": "code",
   "execution_count": 40,
   "metadata": {},
   "outputs": [
    {
     "data": {
      "text/plain": [
       "135542.43661112248"
      ]
     },
     "execution_count": 40,
     "metadata": {},
     "output_type": "execute_result"
    }
   ],
   "source": [
    "from sklearn.metrics import mean_squared_error\n",
    "mse = mean_squared_error(predictions, Y_test)\n",
    "mse"
   ]
  },
  {
   "cell_type": "code",
   "execution_count": 41,
   "metadata": {},
   "outputs": [
    {
     "name": "stdout",
     "output_type": "stream",
     "text": [
      "0.9923830845797235\n"
     ]
    }
   ],
   "source": [
    "from sklearn.metrics import explained_variance_score\n",
    "print(explained_variance_score(predictions,Y_test))"
   ]
  },
  {
   "cell_type": "code",
   "execution_count": 43,
   "metadata": {},
   "outputs": [],
   "source": [
    "import pickle\n",
    "pickle.dump(xgb,open(\"xgb_regressor1.pkl\",\"wb\"))"
   ]
  }
 ],
 "metadata": {
  "colab": {
   "authorship_tag": "ABX9TyPN3CVFlf+YhlQoVPBn91eD",
   "include_colab_link": true,
   "mount_file_id": "10Y-noFUrrXBagapMAi7v6V7F6rWB2nP4",
   "name": "StockMarketPrediction.ipynb",
   "provenance": []
  },
  "kernelspec": {
   "display_name": "Python 3",
   "language": "python",
   "name": "python3"
  },
  "language_info": {
   "codemirror_mode": {
    "name": "ipython",
    "version": 3
   },
   "file_extension": ".py",
   "mimetype": "text/x-python",
   "name": "python",
   "nbconvert_exporter": "python",
   "pygments_lexer": "ipython3",
   "version": "3.8.8"
  }
 },
 "nbformat": 4,
 "nbformat_minor": 1
}
